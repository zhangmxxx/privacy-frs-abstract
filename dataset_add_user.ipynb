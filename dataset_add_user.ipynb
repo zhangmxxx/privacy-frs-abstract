{
 "cells": [
  {
   "cell_type": "code",
   "execution_count": 1,
   "metadata": {},
   "outputs": [],
   "source": [
    "from facenet_pytorch import MTCNN, InceptionResnetV1\n",
    "import torch\n",
    "from torchvision import datasets, transforms\n",
    "from torch.utils.data import DataLoader\n",
    "from PIL import Image, ImageOps\n",
    "import cv2\n",
    "import time\n",
    "import os"
   ]
  },
  {
   "cell_type": "code",
   "execution_count": null,
   "metadata": {},
   "outputs": [],
   "source": [
    "mtcnn0 = MTCNN(image_size=160, margin=0, keep_all=False, min_face_size=40)\n",
    "mtcnn = MTCNN(image_size=160, margin=0, keep_all=True, min_face_size=40)\n",
    "resnet = InceptionResnetV1(pretrained='vggface2').cuda().eval()\n",
    "resnet.classify = False\n",
    "\n",
    "\n",
    "if not os.path.exists('./data_updated.pt'):\n",
    "    dataset = datasets.ImageFolder('datasets/LFW') # photos folder path\n",
    "    idx_to_class = {i:c for c,i in dataset.class_to_idx.items()}\n",
    "\n",
    "    def collate_fn(x):\n",
    "      return x[0]\n",
    "\n",
    "    loader = DataLoader(dataset, collate_fn=collate_fn)\n",
    "\n",
    "    name_list = [] \n",
    "    embedding_list = [] \n",
    "\n",
    "    for img, idx in loader:\n",
    "        face, prob = mtcnn0(img, return_prob=True)\n",
    "        if face is not None and prob > 0.90:\n",
    "            emb = resnet(face.unsqueeze(0).cuda())\n",
    "            embedding_list.append(emb.detach())\n",
    "            name_list.append(idx_to_class[idx])\n",
    "\n",
    "    # save data\n",
    "    data = [embedding_list, name_list]\n",
    "    torch.save(data, './data_updated.pt') # saving data.pt file"
   ]
  }
 ],
 "metadata": {
  "kernelspec": {
   "display_name": "frs",
   "language": "python",
   "name": "python3"
  },
  "language_info": {
   "codemirror_mode": {
    "name": "ipython",
    "version": 3
   },
   "file_extension": ".py",
   "mimetype": "text/x-python",
   "name": "python",
   "nbconvert_exporter": "python",
   "pygments_lexer": "ipython3",
   "version": "3.11.6"
  }
 },
 "nbformat": 4,
 "nbformat_minor": 2
}
